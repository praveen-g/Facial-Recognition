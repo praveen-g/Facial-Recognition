{
 "cells": [
  {
   "cell_type": "code",
   "execution_count": 4,
   "metadata": {
    "collapsed": false
   },
   "outputs": [],
   "source": [
    "import numpy as np\n",
    "from scipy import misc\n",
    "from scipy import linalg\n",
    "from matplotlib import pylab as plt\n",
    "from sklearn.linear_model import LogisticRegression\n",
    "from sklearn import cross_validation as clf\n",
    "from sklearn import metrics as met\n",
    "import matplotlib.cm as cm"
   ]
  },
  {
   "cell_type": "code",
   "execution_count": 5,
   "metadata": {
    "collapsed": false
   },
   "outputs": [
    {
     "name": "stdout",
     "output_type": "stream",
     "text": [
      "(540, 2500) (540,)\n"
     ]
    }
   ],
   "source": [
    "#train data\n",
    "train_labels, X = [], []\n",
    "for line in open(\"faces/train.txt\"):\n",
    "    im = misc.imread(line.strip().split()[0])\n",
    "    X.append(im.reshape(2500,))\n",
    "    train_labels.append(line.strip().split()[1])\n",
    "X, train_labels = np.array(X, dtype=float), np.array(train_labels, dtype=int)\n",
    "print X.shape, train_labels.shape\n",
    "plt.imshow(X[10, :].reshape(50,50), cmap = cm.Greys_r)\n",
    "plt.show()"
   ]
  },
  {
   "cell_type": "code",
   "execution_count": 6,
   "metadata": {
    "collapsed": false
   },
   "outputs": [
    {
     "name": "stdout",
     "output_type": "stream",
     "text": [
      "(100, 2500) (100,)\n"
     ]
    }
   ],
   "source": [
    "#test data\n",
    "test_labels, test_data=[], []\n",
    "\n",
    "for line2 in open(\"faces/test.txt\"):\n",
    "    im = misc.imread(line2.strip().split()[0])\n",
    "    test_data.append(im.reshape(2500,))\n",
    "    test_labels.append(line2.strip().split()[1])\n",
    "test_data, test_labels = np.array(test_data, dtype=float), np.array(test_labels, dtype=int)\n",
    "\n",
    "print test_data.shape, test_labels.shape\n",
    "plt.imshow(test_data[10, :].reshape(50,50), cmap = cm.Greys_r)\n",
    "plt.show()"
   ]
  },
  {
   "cell_type": "code",
   "execution_count": 7,
   "metadata": {
    "collapsed": false
   },
   "outputs": [],
   "source": [
    "#average face\n",
    "avgFace=np.float()\n",
    "avgFace=np.zeros(2500);\n",
    "i=0\n",
    "j=0\n",
    "while j<2500:\n",
    "    while(i<540) :\n",
    "        avgFace[j]+= X[i][j]\n",
    "        i+=1\n",
    "    i=0\n",
    "    j+=1\n",
    "j=0\n",
    "while(j<2500):\n",
    "    avgFace[j]=avgFace[j]/ 540\n",
    "    j+=1\n",
    "plt.imshow(avgFace.reshape(50,50), cmap = cm.Greys_r)\n",
    "plt.show()"
   ]
  },
  {
   "cell_type": "code",
   "execution_count": 8,
   "metadata": {
    "collapsed": false
   },
   "outputs": [],
   "source": [
    "#mean substraction\n",
    "meanSub= np.zeros(2500)\n",
    "meanSub= np.array(X,dtype=float)\n",
    "k=0\n",
    "l=0\n",
    "while(k<540):\n",
    "    arr = np.float()\n",
    "    arr=np.zeros(2500)\n",
    "    while(l<2500):\n",
    "        meanSub[k][l]= meanSub[k][l]- avgFace[l]\n",
    "        l+=1\n",
    "    l=0\n",
    "    k+=1\n",
    "plt.imshow(meanSub[10,:].reshape(50,50), cmap = cm.Greys_r)\n",
    "plt.show()\n",
    "\n",
    "meanSubTest=np.float()\n",
    "meanSubTest= np.zeros(2500)\n",
    "meanSubTest= np.array(test_data,dtype=int)\n",
    "k=0\n",
    "l=0\n",
    "while k<100:\n",
    "    while(l<2500):\n",
    "        meanSubTest[k][l]= test_data[k][l]- avgFace[l]\n",
    "        l+=1\n",
    "    l=0\n",
    "    k+=1\n",
    "plt.imshow(meanSubTest[10, :].reshape(50,50), cmap = cm.Greys_r)\n",
    "plt.show()"
   ]
  },
  {
   "cell_type": "code",
   "execution_count": 9,
   "metadata": {
    "collapsed": true
   },
   "outputs": [],
   "source": [
    "#SVD\n",
    "u,sig,v = linalg.svd(meanSub, full_matrices= True)\n",
    "i=0\n",
    "for i in range(0,10):\n",
    "    plt.imshow(v[i,:].reshape(50,50), cmap = cm.Greys_r)\n",
    "    plt.show()\n",
    "    plt.savefig(\"pic\"+str(i)+\".jpg\")"
   ]
  },
  {
   "cell_type": "code",
   "execution_count": 10,
   "metadata": {
    "collapsed": true
   },
   "outputs": [],
   "source": [
    "#low rank approximation\n",
    "error = np.float()\n",
    "error = np.zeros(200)\n",
    "sig=sorted(sig,reverse=True)\n",
    "for k in range(0,200):\n",
    "    lowRank=np.dot(np.dot(u[:,:k],np.diag(sig[:k])),v[:k,:])\n",
    "    error[k]=np.linalg.norm(X-lowRank)\n",
    "\n",
    "plt.plot(error)\n",
    "plt.show()"
   ]
  },
  {
   "cell_type": "code",
   "execution_count": 11,
   "metadata": {
    "collapsed": false
   },
   "outputs": [],
   "source": [
    "#eigenface feature\n",
    "def trainEigenFaceFeature(r):\n",
    "    Ft = np.dot(meanSub, np.transpose(v[:r,:]))\n",
    "    return Ft\n",
    "\n",
    "def testEigenFaceFeature(r):\n",
    "    m = np.dot(meanSubTest, np.transpose(v[:r,:]))\n",
    "    return m\n",
    "\n",
    "F=trainEigenFaceFeature(10)\n",
    "F_test=testEigenFaceFeature(10)"
   ]
  },
  {
   "cell_type": "code",
   "execution_count": 12,
   "metadata": {
    "collapsed": false
   },
   "outputs": [
    {
     "name": "stdout",
     "output_type": "stream",
     "text": [
      "0.79\n"
     ]
    }
   ],
   "source": [
    "#face recognition\n",
    "model= LogisticRegression()\n",
    "model = model.fit(F,train_labels)\n",
    "print model.score(F_test,test_labels)\n",
    "\n",
    "prediction=model.predict(F_test)\n",
    "with open(\"prediction.txt\",\"w\") as textfile:\n",
    "    for ele in prediction:\n",
    "        textfile.write(str(ele)+\"\\n\")\n",
    "\n",
    "acc = np.float()\n",
    "acc= np.zeros(200)\n",
    "for i in range(1,200):\n",
    "    F=trainEigenFaceFeature(i)\n",
    "    model = model.fit(F,train_labels)\n",
    "    F_test=testEigenFaceFeature(i)\n",
    "    predicted = model.predict(F_test)\n",
    "    labels = []\n",
    "    for obj in predicted:\n",
    "        labels.append(str(obj))\n",
    "    labels = np.array(labels, dtype=int)\n",
    "    acc[i] = met.accuracy_score(labels,test_labels)\n",
    "plt.plot(acc)\n",
    "plt.show()"
   ]
  },
  {
   "cell_type": "code",
   "execution_count": null,
   "metadata": {
    "collapsed": true
   },
   "outputs": [],
   "source": []
  }
 ],
 "metadata": {
  "kernelspec": {
   "display_name": "Python 2",
   "language": "python",
   "name": "python2"
  },
  "language_info": {
   "codemirror_mode": {
    "name": "ipython",
    "version": 2
   },
   "file_extension": ".py",
   "mimetype": "text/x-python",
   "name": "python",
   "nbconvert_exporter": "python",
   "pygments_lexer": "ipython2",
   "version": "2.7.10"
  }
 },
 "nbformat": 4,
 "nbformat_minor": 0
}
